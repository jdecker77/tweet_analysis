{
 "cells": [
  {
   "cell_type": "markdown",
   "metadata": {},
   "source": [
    "## Network Analysis\n",
    "---\n",
    "\n",
    "Identification and analysis of the Twitter networks in Erie PA during February 2019.\n"
   ]
  },
  {
   "cell_type": "code",
   "execution_count": 47,
   "metadata": {},
   "outputs": [],
   "source": [
    "%run -i '../scripts/networking.py'"
   ]
  },
  {
   "cell_type": "code",
   "execution_count": 2,
   "metadata": {},
   "outputs": [],
   "source": [
    "%run -i '../scripts/config.py'"
   ]
  },
  {
   "cell_type": "code",
   "execution_count": 48,
   "metadata": {},
   "outputs": [
    {
     "data": {
      "text/html": [
       "<div>\n",
       "<style scoped>\n",
       "    .dataframe tbody tr th:only-of-type {\n",
       "        vertical-align: middle;\n",
       "    }\n",
       "\n",
       "    .dataframe tbody tr th {\n",
       "        vertical-align: top;\n",
       "    }\n",
       "\n",
       "    .dataframe thead th {\n",
       "        text-align: right;\n",
       "    }\n",
       "</style>\n",
       "<table border=\"1\" class=\"dataframe\">\n",
       "  <thead>\n",
       "    <tr style=\"text-align: right;\">\n",
       "      <th></th>\n",
       "      <th>id_str</th>\n",
       "      <th>text</th>\n",
       "      <th>created_hr</th>\n",
       "      <th>created_dotw</th>\n",
       "      <th>calltime</th>\n",
       "      <th>day</th>\n",
       "      <th>set</th>\n",
       "      <th>call</th>\n",
       "      <th>favorite_count</th>\n",
       "      <th>retweet_count</th>\n",
       "      <th>...</th>\n",
       "      <th>profile_background_color</th>\n",
       "      <th>profile_text_color</th>\n",
       "      <th>user_screen_name</th>\n",
       "      <th>statuses_count</th>\n",
       "      <th>verified</th>\n",
       "      <th>num_tags</th>\n",
       "      <th>num_media</th>\n",
       "      <th>num_symbols</th>\n",
       "      <th>num_urls</th>\n",
       "      <th>num_user_mentions</th>\n",
       "    </tr>\n",
       "  </thead>\n",
       "  <tbody>\n",
       "    <tr>\n",
       "      <th>5351</th>\n",
       "      <td>1096922040559386626</td>\n",
       "      <td>Your @MarshaMarsh Starters of the Game:\\n\\nSel...</td>\n",
       "      <td>18</td>\n",
       "      <td>Sat</td>\n",
       "      <td>2019-02-16 19:00:31.011348</td>\n",
       "      <td>16</td>\n",
       "      <td>6</td>\n",
       "      <td>1</td>\n",
       "      <td>0</td>\n",
       "      <td>0</td>\n",
       "      <td>...</td>\n",
       "      <td>A50909</td>\n",
       "      <td>EDC40C</td>\n",
       "      <td>ErieOtters</td>\n",
       "      <td>30832</td>\n",
       "      <td>True</td>\n",
       "      <td>0</td>\n",
       "      <td>0</td>\n",
       "      <td>0</td>\n",
       "      <td>0</td>\n",
       "      <td>1</td>\n",
       "    </tr>\n",
       "    <tr>\n",
       "      <th>6077</th>\n",
       "      <td>1097248979346165760</td>\n",
       "      <td>That'll do it for the First Period.  We trail ...</td>\n",
       "      <td>16</td>\n",
       "      <td>Sun</td>\n",
       "      <td>2019-02-17 16:42:43.865082</td>\n",
       "      <td>17</td>\n",
       "      <td>5</td>\n",
       "      <td>1</td>\n",
       "      <td>0</td>\n",
       "      <td>0</td>\n",
       "      <td>...</td>\n",
       "      <td>A50909</td>\n",
       "      <td>EDC40C</td>\n",
       "      <td>ErieOtters</td>\n",
       "      <td>30867</td>\n",
       "      <td>True</td>\n",
       "      <td>0</td>\n",
       "      <td>0</td>\n",
       "      <td>0</td>\n",
       "      <td>0</td>\n",
       "      <td>0</td>\n",
       "    </tr>\n",
       "    <tr>\n",
       "      <th>5978</th>\n",
       "      <td>1097247218724192257</td>\n",
       "      <td>Evan Bouchard scores and its 4-0 London.\\n\\n5:...</td>\n",
       "      <td>16</td>\n",
       "      <td>Sun</td>\n",
       "      <td>2019-02-17 16:42:43.865082</td>\n",
       "      <td>17</td>\n",
       "      <td>5</td>\n",
       "      <td>1</td>\n",
       "      <td>0</td>\n",
       "      <td>0</td>\n",
       "      <td>...</td>\n",
       "      <td>A50909</td>\n",
       "      <td>EDC40C</td>\n",
       "      <td>ErieOtters</td>\n",
       "      <td>30865</td>\n",
       "      <td>True</td>\n",
       "      <td>0</td>\n",
       "      <td>0</td>\n",
       "      <td>0</td>\n",
       "      <td>0</td>\n",
       "      <td>0</td>\n",
       "    </tr>\n",
       "    <tr>\n",
       "      <th>6065</th>\n",
       "      <td>1097248723242020865</td>\n",
       "      <td>Gerard Keane is called for Holding and we will...</td>\n",
       "      <td>16</td>\n",
       "      <td>Sun</td>\n",
       "      <td>2019-02-17 16:42:43.865082</td>\n",
       "      <td>17</td>\n",
       "      <td>5</td>\n",
       "      <td>1</td>\n",
       "      <td>0</td>\n",
       "      <td>0</td>\n",
       "      <td>...</td>\n",
       "      <td>A50909</td>\n",
       "      <td>EDC40C</td>\n",
       "      <td>ErieOtters</td>\n",
       "      <td>30866</td>\n",
       "      <td>True</td>\n",
       "      <td>0</td>\n",
       "      <td>0</td>\n",
       "      <td>0</td>\n",
       "      <td>0</td>\n",
       "      <td>1</td>\n",
       "    </tr>\n",
       "    <tr>\n",
       "      <th>6239</th>\n",
       "      <td>1097282580183961600</td>\n",
       "      <td>Otters Find Scoring Too Late, Fall 8-5 to Lond...</td>\n",
       "      <td>18</td>\n",
       "      <td>Sun</td>\n",
       "      <td>2019-02-17 18:53:59.653048</td>\n",
       "      <td>17</td>\n",
       "      <td>6</td>\n",
       "      <td>1</td>\n",
       "      <td>0</td>\n",
       "      <td>0</td>\n",
       "      <td>...</td>\n",
       "      <td>A50909</td>\n",
       "      <td>EDC40C</td>\n",
       "      <td>ErieOtters</td>\n",
       "      <td>30894</td>\n",
       "      <td>True</td>\n",
       "      <td>0</td>\n",
       "      <td>1</td>\n",
       "      <td>0</td>\n",
       "      <td>1</td>\n",
       "      <td>0</td>\n",
       "    </tr>\n",
       "  </tbody>\n",
       "</table>\n",
       "<p>5 rows × 39 columns</p>\n",
       "</div>"
      ],
      "text/plain": [
       "                   id_str                                               text  \\\n",
       "5351  1096922040559386626  Your @MarshaMarsh Starters of the Game:\\n\\nSel...   \n",
       "6077  1097248979346165760  That'll do it for the First Period.  We trail ...   \n",
       "5978  1097247218724192257  Evan Bouchard scores and its 4-0 London.\\n\\n5:...   \n",
       "6065  1097248723242020865  Gerard Keane is called for Holding and we will...   \n",
       "6239  1097282580183961600  Otters Find Scoring Too Late, Fall 8-5 to Lond...   \n",
       "\n",
       "      created_hr created_dotw                    calltime  day  set  call  \\\n",
       "5351          18          Sat  2019-02-16 19:00:31.011348   16    6     1   \n",
       "6077          16          Sun  2019-02-17 16:42:43.865082   17    5     1   \n",
       "5978          16          Sun  2019-02-17 16:42:43.865082   17    5     1   \n",
       "6065          16          Sun  2019-02-17 16:42:43.865082   17    5     1   \n",
       "6239          18          Sun  2019-02-17 18:53:59.653048   17    6     1   \n",
       "\n",
       "      favorite_count  retweet_count  ... profile_background_color  \\\n",
       "5351               0              0  ...                   A50909   \n",
       "6077               0              0  ...                   A50909   \n",
       "5978               0              0  ...                   A50909   \n",
       "6065               0              0  ...                   A50909   \n",
       "6239               0              0  ...                   A50909   \n",
       "\n",
       "     profile_text_color user_screen_name  statuses_count  verified  num_tags  \\\n",
       "5351             EDC40C       ErieOtters           30832      True         0   \n",
       "6077             EDC40C       ErieOtters           30867      True         0   \n",
       "5978             EDC40C       ErieOtters           30865      True         0   \n",
       "6065             EDC40C       ErieOtters           30866      True         0   \n",
       "6239             EDC40C       ErieOtters           30894      True         0   \n",
       "\n",
       "     num_media  num_symbols  num_urls  num_user_mentions  \n",
       "5351         0            0         0                  1  \n",
       "6077         0            0         0                  0  \n",
       "5978         0            0         0                  0  \n",
       "6065         0            0         0                  1  \n",
       "6239         1            0         1                  0  \n",
       "\n",
       "[5 rows x 39 columns]"
      ]
     },
     "execution_count": 48,
     "metadata": {},
     "output_type": "execute_result"
    }
   ],
   "source": [
    "'''\n",
    "Import dataset sorted by influence score.\n",
    "'''\n",
    "\n",
    "df = ReadCSV('erie_tweets_c1.csv')\n",
    "df = df.sort_values(by=['influence_score'],ascending=False)\n",
    "df.head()"
   ]
  },
  {
   "cell_type": "code",
   "execution_count": 4,
   "metadata": {},
   "outputs": [
    {
     "data": {
      "text/plain": [
       "Index(['id_str', 'text', 'created_hr', 'created_dotw', 'calltime', 'day',\n",
       "       'set', 'call', 'favorite_count', 'retweet_count', 'place_names',\n",
       "       'place_ids', 'sources', 'influence_score', 'in_reply_to_status_id_str',\n",
       "       'in_reply_to_user_id_str', 'lang', 'is_quote_status', 'retweeted',\n",
       "       'truncated', 'user_id_str', 'user_name', 'user_description',\n",
       "       'user_location', 'user_since', 'favorites_counts', 'followers_count',\n",
       "       'friends_count', 'listed_count', 'profile_background_color',\n",
       "       'profile_text_color', 'user_screen_name', 'statuses_count', 'verified',\n",
       "       'num_tags', 'num_media', 'num_symbols', 'num_urls',\n",
       "       'num_user_mentions'],\n",
       "      dtype='object')"
      ]
     },
     "execution_count": 4,
     "metadata": {},
     "output_type": "execute_result"
    }
   ],
   "source": [
    "df.columns"
   ]
  },
  {
   "cell_type": "code",
   "execution_count": 15,
   "metadata": {},
   "outputs": [
    {
     "data": {
      "image/png": "[encoded data removed]",
      "text/plain": [
       "<Figure size 432x288 with 1 Axes>"
      ]
     },
     "metadata": {
      "needs_background": "light"
     },
     "output_type": "display_data"
    }
   ],
   "source": [
    "ax = sns.distplot(df['influence_score'],kde=False)"
   ]
  },
  {
   "cell_type": "code",
   "execution_count": 16,
   "metadata": {},
   "outputs": [
    {
     "data": {
      "image/png": "[encoded data removed]",
      "text/plain": [
       "<Figure size 432x288 with 1 Axes>"
      ]
     },
     "metadata": {
      "needs_background": "light"
     },
     "output_type": "display_data"
    }
   ],
   "source": [
    "outliers = df['influence_score'].mean()+ df['influence_score'].std()*3.5\n",
    "\n",
    "df = df[df['influence_score'] < outliers]\n",
    "\n",
    "ax = sns.distplot(df['influence_score'],kde=False)"
   ]
  },
  {
   "cell_type": "code",
   "execution_count": 11,
   "metadata": {},
   "outputs": [],
   "source": [
    "users = list(df['user_id_str'].unique())"
   ]
  },
  {
   "cell_type": "code",
   "execution_count": null,
   "metadata": {},
   "outputs": [],
   "source": [
    "'''\n",
    "Query user, follower, and friend info for the top 25 users. Save to files.\n",
    "Hitting limit on users with many followers. Run individually.\n",
    "'''\n",
    "user = users[25]\n",
    "# GetUser(user)\n",
    "# GetFollowers(user)\n",
    "# GetFriends(user)"
   ]
  },
  {
   "cell_type": "code",
   "execution_count": 49,
   "metadata": {},
   "outputs": [
    {
     "ename": "FileNotFoundError",
     "evalue": "[Errno 2] No such file or directory: '../data/NW/users/347321459.json.json'",
     "output_type": "error",
     "traceback": [
      "\u001b[0;31m---------------------------------------------------------------------------\u001b[0m",
      "\u001b[0;31mFileNotFoundError\u001b[0m                         Traceback (most recent call last)",
      "\u001b[0;32m~/projects/tweet_analysis/scripts/networking.py\u001b[0m in \u001b[0;36m<module>\u001b[0;34m\u001b[0m\n\u001b[1;32m      3\u001b[0m '''\n\u001b[1;32m      4\u001b[0m \u001b[0;34m\u001b[0m\u001b[0m\n\u001b[0;32m----> 5\u001b[0;31m \u001b[0mG\u001b[0m \u001b[0;34m=\u001b[0m \u001b[0mLoadGraph\u001b[0m\u001b[0;34m(\u001b[0m\u001b[0;34m)\u001b[0m\u001b[0;34m\u001b[0m\u001b[0;34m\u001b[0m\u001b[0m\n\u001b[0m",
      "\u001b[0;32m~/projects/tweet_analysis/scripts/networking.py\u001b[0m in \u001b[0;36mLoadGraph\u001b[0;34m()\u001b[0m\n\u001b[1;32m    139\u001b[0m         \u001b[0;32mif\u001b[0m \u001b[0muser\u001b[0m \u001b[0;32mnot\u001b[0m \u001b[0;32min\u001b[0m \u001b[0mlist\u001b[0m\u001b[0;34m(\u001b[0m\u001b[0mG\u001b[0m\u001b[0;34m.\u001b[0m\u001b[0mnodes\u001b[0m\u001b[0;34m(\u001b[0m\u001b[0;34m)\u001b[0m\u001b[0;34m)\u001b[0m\u001b[0;34m:\u001b[0m\u001b[0;34m\u001b[0m\u001b[0;34m\u001b[0m\u001b[0m\n\u001b[1;32m    140\u001b[0m             \u001b[0mfilename\u001b[0m \u001b[0;34m=\u001b[0m \u001b[0;34m'../data/NW/users/'\u001b[0m\u001b[0;34m+\u001b[0m\u001b[0mstr\u001b[0m\u001b[0;34m(\u001b[0m\u001b[0muser\u001b[0m\u001b[0;34m)\u001b[0m\u001b[0;34m+\u001b[0m\u001b[0;34m'.json'\u001b[0m\u001b[0;34m\u001b[0m\u001b[0;34m\u001b[0m\u001b[0m\n\u001b[0;32m--> 141\u001b[0;31m             \u001b[0;32mwith\u001b[0m \u001b[0mopen\u001b[0m\u001b[0;34m(\u001b[0m\u001b[0mfilename\u001b[0m\u001b[0;34m,\u001b[0m \u001b[0;34m'r'\u001b[0m\u001b[0;34m)\u001b[0m \u001b[0;32mas\u001b[0m \u001b[0muser_f\u001b[0m\u001b[0;34m:\u001b[0m\u001b[0;34m\u001b[0m\u001b[0;34m\u001b[0m\u001b[0m\n\u001b[0m\u001b[1;32m    142\u001b[0m                 \u001b[0muser_file\u001b[0m \u001b[0;34m=\u001b[0m \u001b[0mjson\u001b[0m\u001b[0;34m.\u001b[0m\u001b[0mload\u001b[0m\u001b[0;34m(\u001b[0m\u001b[0muser_f\u001b[0m\u001b[0;34m)\u001b[0m\u001b[0;34m\u001b[0m\u001b[0;34m\u001b[0m\u001b[0m\n\u001b[1;32m    143\u001b[0m                 \u001b[0muser_score\u001b[0m \u001b[0;34m=\u001b[0m \u001b[0muser_file\u001b[0m\u001b[0;34m[\u001b[0m\u001b[0;34m'followers_count'\u001b[0m\u001b[0;34m]\u001b[0m\u001b[0;34m*\u001b[0m\u001b[0;36m.025\u001b[0m \u001b[0;34m+\u001b[0m \u001b[0muser_file\u001b[0m\u001b[0;34m[\u001b[0m\u001b[0;34m'listed_count'\u001b[0m\u001b[0;34m]\u001b[0m\u001b[0;34m*\u001b[0m\u001b[0;36m.075\u001b[0m\u001b[0;34m\u001b[0m\u001b[0;34m\u001b[0m\u001b[0m\n",
      "\u001b[0;31mFileNotFoundError\u001b[0m: [Errno 2] No such file or directory: '../data/NW/users/347321459.json.json'"
     ]
    }
   ],
   "source": [
    "'''\n",
    "Use subsets of most active users to build graph.\n",
    "'''\n",
    "\n",
    "G = LoadGraph()"
   ]
  },
  {
   "cell_type": "code",
   "execution_count": null,
   "metadata": {},
   "outputs": [],
   "source": [
    "PrintSummaryTwo(G)"
   ]
  },
  {
   "cell_type": "code",
   "execution_count": null,
   "metadata": {},
   "outputs": [],
   "source": []
  },
  {
   "cell_type": "code",
   "execution_count": 17,
   "metadata": {},
   "outputs": [],
   "source": [
    "import os\n"
   ]
  },
  {
   "cell_type": "code",
   "execution_count": 18,
   "metadata": {},
   "outputs": [],
   "source": [
    "APP_ROOT = os.path.dirname(os.path.abspath(__file__))"
   ]
  },
  {
   "cell_type": "code",
   "execution_count": 19,
   "metadata": {},
   "outputs": [
    {
     "data": {
      "text/plain": [
       "'/Users/jessedecker/projects/tweet_analysis/scripts'"
      ]
     },
     "execution_count": 19,
     "metadata": {},
     "output_type": "execute_result"
    }
   ],
   "source": [
    "APP_ROOT"
   ]
  },
  {
   "cell_type": "code",
   "execution_count": 30,
   "metadata": {},
   "outputs": [
    {
     "data": {
      "text/plain": [
       "'/Users/jessedecker/projects/tweet_analysis/data/tweets/NW/users/'"
      ]
     },
     "execution_count": 30,
     "metadata": {},
     "output_type": "execute_result"
    }
   ],
   "source": [
    "user_filepath = 'data/tweets/NW/users/'\n",
    "user_folder = APP_ROOT.replace('scripts',user_filepath)\n",
    "user_folder"
   ]
  },
  {
   "cell_type": "code",
   "execution_count": 31,
   "metadata": {},
   "outputs": [
    {
     "data": {
      "text/plain": [
       "['347321459.json',\n",
       " '318061556.json',\n",
       " '1872134220.json',\n",
       " '65641854.json',\n",
       " '424550559.json',\n",
       " '590526622.json',\n",
       " '2201577775.json',\n",
       " '1692876294.json',\n",
       " '900761430.json',\n",
       " '1615762506.json',\n",
       " '15648708.json',\n",
       " '2409232175.json',\n",
       " '176519163.json',\n",
       " '146879662.json',\n",
       " '533732403.json',\n",
       " '394394376.json',\n",
       " '499688053.json',\n",
       " '1512551.json',\n",
       " '259872649.json',\n",
       " '.ipynb_checkpoints',\n",
       " '351097318.json',\n",
       " '357131991.json',\n",
       " '3293178390.json',\n",
       " '201136410.json',\n",
       " '217320158.json',\n",
       " '807413918586933248.json']"
      ]
     },
     "execution_count": 31,
     "metadata": {},
     "output_type": "execute_result"
    }
   ],
   "source": [
    "active_users = os.listdir(os.path.dirname(user_folder))\n",
    "active_users"
   ]
  },
  {
   "cell_type": "code",
   "execution_count": 39,
   "metadata": {},
   "outputs": [
    {
     "data": {
      "text/plain": [
       "'347321459.json'"
      ]
     },
     "execution_count": 39,
     "metadata": {},
     "output_type": "execute_result"
    }
   ],
   "source": [
    "active_users[0][:len(active_users[0])]"
   ]
  },
  {
   "cell_type": "code",
   "execution_count": 42,
   "metadata": {},
   "outputs": [
    {
     "data": {
      "text/plain": [
       "'json'"
      ]
     },
     "execution_count": 42,
     "metadata": {},
     "output_type": "execute_result"
    }
   ],
   "source": [
    "active_users[0][-4:]"
   ]
  },
  {
   "cell_type": "code",
   "execution_count": 44,
   "metadata": {},
   "outputs": [],
   "source": [
    "for x in active_users:\n",
    "    if x[-4:] != 'json':\n",
    "        active_users.remove(x)"
   ]
  },
  {
   "cell_type": "code",
   "execution_count": 45,
   "metadata": {},
   "outputs": [
    {
     "data": {
      "text/plain": [
       "['347321459.json',\n",
       " '318061556.json',\n",
       " '1872134220.json',\n",
       " '65641854.json',\n",
       " '424550559.json',\n",
       " '590526622.json',\n",
       " '2201577775.json',\n",
       " '1692876294.json',\n",
       " '900761430.json',\n",
       " '1615762506.json',\n",
       " '15648708.json',\n",
       " '2409232175.json',\n",
       " '176519163.json',\n",
       " '146879662.json',\n",
       " '533732403.json',\n",
       " '394394376.json',\n",
       " '499688053.json',\n",
       " '1512551.json',\n",
       " '259872649.json',\n",
       " '351097318.json',\n",
       " '357131991.json',\n",
       " '3293178390.json',\n",
       " '201136410.json',\n",
       " '217320158.json',\n",
       " '807413918586933248.json']"
      ]
     },
     "execution_count": 45,
     "metadata": {},
     "output_type": "execute_result"
    }
   ],
   "source": [
    "active_users"
   ]
  },
  {
   "cell_type": "code",
   "execution_count": null,
   "metadata": {},
   "outputs": [],
   "source": []
  }
 ],
 "metadata": {
  "kernelspec": {
   "display_name": "Python 3",
   "language": "python",
   "name": "python3"
  },
  "language_info": {
   "codemirror_mode": {
    "name": "ipython",
    "version": 3
   },
   "file_extension": ".py",
   "mimetype": "text/x-python",
   "name": "python",
   "nbconvert_exporter": "python",
   "pygments_lexer": "ipython3",
   "version": "3.7.3"
  }
 },
 "nbformat": 4,
 "nbformat_minor": 2
}
